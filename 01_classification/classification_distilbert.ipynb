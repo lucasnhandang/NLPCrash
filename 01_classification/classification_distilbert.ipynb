{
  "cells": [
    {
      "cell_type": "markdown",
      "id": "4c4cd722",
      "metadata": {
        "id": "4c4cd722"
      },
      "source": [
        "# Text Classification – DistilBERT (EN/VN)\n",
        "**Objective/Mục tiêu**: Fine-tune DistilBERT on AG News for fast baseline.\n",
        "**Inputs**: `datasets`, `transformers`, `evaluate`.\n",
        "**Outputs**: Accuracy/F1, confusion matrix, saved model/metrics.\n"
      ]
    },
    {
      "cell_type": "code",
      "source": [
        "# !pip install -q transformers datasets evaluate accelerate torch torchvision torchaudio --extra-index-url https://download.pytorch.org/whl/cu121"
      ],
      "metadata": {
        "id": "r-F27jEiPAl_"
      },
      "id": "r-F27jEiPAl_",
      "execution_count": null,
      "outputs": []
    },
    {
      "cell_type": "code",
      "execution_count": null,
      "id": "d51eaeeb",
      "metadata": {
        "id": "d51eaeeb"
      },
      "outputs": [],
      "source": [
        "\n",
        "from datasets import load_dataset\n",
        "from transformers import AutoTokenizer, AutoModelForSequenceClassification, DataCollatorWithPadding, TrainingArguments, Trainer\n",
        "import numpy as np\n",
        "import evaluate\n",
        "\n",
        "dataset = load_dataset(\"ag_news\")\n",
        "label_names = dataset[\"train\"].features[\"label\"].names\n",
        "num_labels = len(label_names)\n",
        "\n",
        "model_name = \"distilbert/distilbert-base-uncased\"\n",
        "tokenizer = AutoTokenizer.from_pretrained(model_name)\n",
        "\n",
        "def tokenize(batch):\n",
        "    return tokenizer(batch[\"text\"], truncation=True)\n",
        "\n",
        "tokenized = dataset.map(tokenize, batched=True, remove_columns=[\"text\"])\n",
        "data_collator = DataCollatorWithPadding(tokenizer=tokenizer)\n",
        "\n",
        "accuracy = evaluate.load(\"accuracy\")\n",
        "f1 = evaluate.load(\"f1\")\n",
        "\n",
        "def compute_metrics(p):\n",
        "    preds = np.argmax(p.predictions, axis=1)\n",
        "    return {\n",
        "        \"accuracy\": accuracy.compute(predictions=preds, references=p.label_ids)[\"accuracy\"],\n",
        "        \"f1_macro\": f1.compute(predictions=preds, references=p.label_ids, average=\"macro\")[\"f1\"]\n",
        "    }\n",
        "\n",
        "model = AutoModelForSequenceClassification.from_pretrained(model_name, num_labels=num_labels)\n",
        "\n",
        "args = TrainingArguments(\n",
        "    output_dir=\"./outputs\",\n",
        "    evaluation_strategy=\"epoch\",\n",
        "    save_strategy=\"epoch\",\n",
        "    learning_rate=2e-5,\n",
        "    per_device_train_batch_size=16,\n",
        "    per_device_eval_batch_size=32,\n",
        "    num_train_epochs=2,\n",
        "    weight_decay=0.01,\n",
        "    load_best_model_at_end=True,\n",
        "    metric_for_best_model=\"accuracy\",\n",
        "    logging_steps=50,\n",
        ")\n",
        "\n",
        "trainer = Trainer(\n",
        "    model=model,\n",
        "    args=args,\n",
        "    train_dataset=tokenized[\"train\"].shuffle(seed=42).select(range(5000)),\n",
        "    eval_dataset=tokenized[\"test\"].shuffle(seed=42).select(range(2000)),\n",
        "    tokenizer=tokenizer,\n",
        "    data_collator=data_collator,\n",
        "    compute_metrics=compute_metrics,\n",
        ")\n",
        "\n",
        "trainer.train()\n",
        "metrics = trainer.evaluate()\n",
        "metrics\n"
      ]
    },
    {
      "cell_type": "markdown",
      "id": "bbe4eb72",
      "metadata": {
        "id": "bbe4eb72"
      },
      "source": [
        "\n",
        "# Confusion matrix (optional)\n"
      ]
    },
    {
      "cell_type": "code",
      "source": [
        "import numpy as np\n",
        "from sklearn.metrics import confusion_matrix\n",
        "preds = np.argmax(trainer.predict(tokenized['test'].select(range(2000))).predictions, axis=1)\n",
        "cm = confusion_matrix(tokenized['test'].select(range(2000))['label'], preds)\n",
        "cm"
      ],
      "metadata": {
        "id": "drNzjg9fO727"
      },
      "id": "drNzjg9fO727",
      "execution_count": null,
      "outputs": []
    },
    {
      "cell_type": "markdown",
      "id": "725f5382",
      "metadata": {
        "id": "725f5382"
      },
      "source": [
        "\n",
        "# Save artifacts\n"
      ]
    },
    {
      "cell_type": "code",
      "source": [
        "trainer.save_model(\"./model_distilbert_agnews\")\n",
        "tokenizer.save_pretrained(\"./model_distilbert_agnews\")\n",
        "with open(\"metrics.json\", \"w\") as f:\n",
        "    json.dump(metrics, f, indent=2)\n",
        "print(\"Saved to ./model_distilbert_agnews and metrics.json\")"
      ],
      "metadata": {
        "id": "Xn3KqyE8O-Ll"
      },
      "id": "Xn3KqyE8O-Ll",
      "execution_count": null,
      "outputs": []
    }
  ],
  "metadata": {
    "colab": {
      "provenance": []
    }
  },
  "nbformat": 4,
  "nbformat_minor": 5
}